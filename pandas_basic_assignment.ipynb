{
 "cells": [
  {
   "cell_type": "markdown",
   "id": "b5645f51-96b9-42be-8bb6-6666a1f1e4a2",
   "metadata": {},
   "source": [
    "Question - 1\n",
    "ans  - "
   ]
  },
  {
   "cell_type": "code",
   "execution_count": null,
   "id": "980b71bd-bf4f-43c3-ada9-19c0e20a16fd",
   "metadata": {},
   "outputs": [],
   "source": []
  },
  {
   "cell_type": "code",
   "execution_count": 11,
   "id": "972b6f83-e2d1-4a2f-b257-758d6e2502c5",
   "metadata": {},
   "outputs": [
    {
     "name": "stdout",
     "output_type": "stream",
     "text": [
      "Requirement already satisfied: pandas in /opt/conda/lib/python3.10/site-packages (1.5.2)\n",
      "Requirement already satisfied: python-dateutil>=2.8.1 in /opt/conda/lib/python3.10/site-packages (from pandas) (2.8.2)\n",
      "Requirement already satisfied: pytz>=2020.1 in /opt/conda/lib/python3.10/site-packages (from pandas) (2022.6)\n",
      "Requirement already satisfied: numpy>=1.21.0 in /opt/conda/lib/python3.10/site-packages (from pandas) (1.23.5)\n",
      "Requirement already satisfied: six>=1.5 in /opt/conda/lib/python3.10/site-packages (from python-dateutil>=2.8.1->pandas) (1.16.0)\n",
      "Note: you may need to restart the kernel to use updated packages.\n"
     ]
    }
   ],
   "source": [
    "pip install pandas"
   ]
  },
  {
   "cell_type": "code",
   "execution_count": 12,
   "id": "706e8b2d-a2f7-4a47-96de-89a3c996b0d7",
   "metadata": {},
   "outputs": [],
   "source": [
    "import pandas as pd"
   ]
  },
  {
   "cell_type": "code",
   "execution_count": 13,
   "id": "8049372b-a4a2-426c-a3d0-3c97c614e55f",
   "metadata": {},
   "outputs": [],
   "source": [
    "data = [4, 8, 15, 16, 23, 42]\n",
    "\n",
    "series = pd.Series(data)"
   ]
  },
  {
   "cell_type": "code",
   "execution_count": 14,
   "id": "527cef13-177e-4557-a993-c94e3afb57b4",
   "metadata": {},
   "outputs": [
    {
     "name": "stdout",
     "output_type": "stream",
     "text": [
      "0     4\n",
      "1     8\n",
      "2    15\n",
      "3    16\n",
      "4    23\n",
      "5    42\n",
      "dtype: int64\n"
     ]
    }
   ],
   "source": [
    "print(series)"
   ]
  },
  {
   "cell_type": "code",
   "execution_count": null,
   "id": "fb0968e9-a4ca-4072-9d5c-a9e5e592ea49",
   "metadata": {},
   "outputs": [],
   "source": []
  },
  {
   "cell_type": "code",
   "execution_count": null,
   "id": "79c80cc4-4929-4d80-b674-39e118646fbb",
   "metadata": {},
   "outputs": [],
   "source": []
  },
  {
   "cell_type": "markdown",
   "id": "28b813c6-030c-44b9-9b06-b64d77829521",
   "metadata": {},
   "source": [
    "Quesion - 2\n",
    "ans - "
   ]
  },
  {
   "cell_type": "code",
   "execution_count": 15,
   "id": "76fe72ea-77f5-4c09-973c-a6a9aadcf222",
   "metadata": {},
   "outputs": [],
   "source": [
    "var1 = [2,3,4,5,6,7,8,9,12,13]"
   ]
  },
  {
   "cell_type": "code",
   "execution_count": 16,
   "id": "e98eefdd-d07f-4666-9261-78c77bb448ee",
   "metadata": {},
   "outputs": [
    {
     "data": {
      "text/plain": [
       "10"
      ]
     },
     "execution_count": 16,
     "metadata": {},
     "output_type": "execute_result"
    }
   ],
   "source": [
    "len(var1)"
   ]
  },
  {
   "cell_type": "code",
   "execution_count": 17,
   "id": "f5171fae-ecfb-4733-b2fa-22890dfa2925",
   "metadata": {},
   "outputs": [
    {
     "data": {
      "text/plain": [
       "0     2\n",
       "1     3\n",
       "2     4\n",
       "3     5\n",
       "4     6\n",
       "5     7\n",
       "6     8\n",
       "7     9\n",
       "8    12\n",
       "9    13\n",
       "dtype: int64"
      ]
     },
     "execution_count": 17,
     "metadata": {},
     "output_type": "execute_result"
    }
   ],
   "source": [
    "pd.Series(var1)"
   ]
  },
  {
   "cell_type": "code",
   "execution_count": null,
   "id": "a59865dc-89a2-43ac-a31d-37c91d85f6cb",
   "metadata": {},
   "outputs": [],
   "source": []
  },
  {
   "cell_type": "code",
   "execution_count": null,
   "id": "76c0d248-7202-4cfe-9b63-7bfa9b3e96e3",
   "metadata": {},
   "outputs": [],
   "source": []
  },
  {
   "cell_type": "markdown",
   "id": "67f18dcd-5c9c-494f-b04c-fdec2aaeb7bd",
   "metadata": {},
   "source": [
    "question - 3\n",
    "ans - "
   ]
  },
  {
   "cell_type": "code",
   "execution_count": 18,
   "id": "de3bc083-797e-4a6d-bc17-e1f39b89c6fc",
   "metadata": {},
   "outputs": [],
   "source": [
    "data1 = {\"Name\":[\"Alice\",\"Bob\",\"Claire\"],\n",
    "         \"Age\":[25,30,27],\n",
    "         \"Gender\":[\"Female\",\"Male\",\"Female\"]\n",
    "}\n",
    "\n",
    "\n",
    "df = pd.DataFrame(data1)"
   ]
  },
  {
   "cell_type": "code",
   "execution_count": 19,
   "id": "d2814c38-9217-480d-8f4c-3ec52f3c695c",
   "metadata": {},
   "outputs": [
    {
     "name": "stdout",
     "output_type": "stream",
     "text": [
      "     Name  Age  Gender\n",
      "0   Alice   25  Female\n",
      "1     Bob   30    Male\n",
      "2  Claire   27  Female\n"
     ]
    }
   ],
   "source": [
    "print(df)"
   ]
  },
  {
   "cell_type": "code",
   "execution_count": null,
   "id": "e3218264-ce6c-44c6-8922-a4be172d6a66",
   "metadata": {},
   "outputs": [],
   "source": []
  },
  {
   "cell_type": "code",
   "execution_count": null,
   "id": "d45462d4-c4e2-4eef-bf1f-5c2e5e94895c",
   "metadata": {},
   "outputs": [],
   "source": []
  },
  {
   "cell_type": "markdown",
   "id": "b8b51897-dbb6-4e94-9c07-5ae170d108e7",
   "metadata": {},
   "source": [
    "Question - 4\n",
    "ans - "
   ]
  },
  {
   "cell_type": "markdown",
   "id": "e7ba4523-a2b8-4f4b-818a-feb085c25523",
   "metadata": {},
   "source": [
    "DataFrame --\n",
    "In Pandas, a DataFrame is a two-dimensional, tabular data structure that stores data in rows and columns. It is similar to a spreadsheet or a SQL table, where each column represents a variable, and each row represents an observation or record. DataFrames are one of the primary data structures in Pandas and are widely used for data manipulation, analysis, and cleaning tasks.\n",
    "\n",
    "\n",
    "Series --\n",
    "On the other hand, a Pandas Series is a one-dimensional labeled array. It can be thought of as a single column of data, similar to a NumPy array but with additional functionality and labeled indices for each element. A DataFrame is essentially a collection of Series, where each Series represents a column in the DataFrame.\n",
    "\n",
    "Let's explain the difference with an example:"
   ]
  },
  {
   "cell_type": "code",
   "execution_count": 20,
   "id": "ab750c80-3ede-4936-919d-f9f6d32c1c23",
   "metadata": {},
   "outputs": [
    {
     "name": "stdout",
     "output_type": "stream",
     "text": [
      "0     4\n",
      "1     8\n",
      "2    15\n",
      "3    16\n",
      "4    23\n",
      "5    42\n",
      "dtype: int64\n"
     ]
    }
   ],
   "source": [
    "data = [4, 8, 15, 16, 23, 42]\n",
    "\n",
    "series = pd.Series(data)\n",
    "\n",
    "print(series)"
   ]
  },
  {
   "cell_type": "code",
   "execution_count": null,
   "id": "4259e3c4-fa40-478b-ad51-ffd63f6157e5",
   "metadata": {},
   "outputs": [],
   "source": []
  },
  {
   "cell_type": "code",
   "execution_count": 21,
   "id": "77499c77-cf3f-4b98-b088-91d8f24652bd",
   "metadata": {},
   "outputs": [
    {
     "name": "stdout",
     "output_type": "stream",
     "text": [
      "     Name  Age  Gender\n",
      "0   Alice   25  Female\n",
      "1     Bob   30    Male\n",
      "2  Claire   27  Female\n"
     ]
    }
   ],
   "source": [
    "data1 = {\"Name\":[\"Alice\",\"Bob\",\"Claire\"],\n",
    "         \"Age\":[25,30,27],\n",
    "         \"Gender\":[\"Female\",\"Male\",\"Female\"]\n",
    "}\n",
    "\n",
    "\n",
    "df = pd.DataFrame(data1)\n",
    "\n",
    "print(df)"
   ]
  },
  {
   "cell_type": "markdown",
   "id": "e78a046a-d99e-44e7-afe3-4000bcdef19c",
   "metadata": {},
   "source": [
    "In this example, we have created a Pandas DataFrame containing three columns: \"Name\", \"Age\", and \"Gender\". Each column represents a Pandas Series (e.g., \"Name\" column is a Series with elements ['Alice', 'Bob', 'Claire'], \"Age\" column is a Series with elements [25, 30, 27], and \"Gender\" column is a Series with elements ['Female', 'Male', 'Female']). The DataFrame provides a tabular representation of the data, where each row represents a different person with their corresponding information (Name, Age, and Gender)."
   ]
  },
  {
   "cell_type": "code",
   "execution_count": null,
   "id": "5544f1ec-710f-43fb-9f75-6da6cc905ffc",
   "metadata": {},
   "outputs": [],
   "source": []
  },
  {
   "cell_type": "code",
   "execution_count": null,
   "id": "b73f58dc-b4d2-4c71-9d8b-92eee94e6d0c",
   "metadata": {},
   "outputs": [],
   "source": []
  },
  {
   "cell_type": "markdown",
   "id": "be25f6ee-6fe7-4c0d-b52b-0f4f5f7c58f6",
   "metadata": {},
   "source": [
    "Question - 5\n",
    "ans - "
   ]
  },
  {
   "cell_type": "markdown",
   "id": "16d294d1-dcb1-4ac3-a4ec-ef190084bf36",
   "metadata": {},
   "source": [
    "1.-- head() and tail(): These functions allow you to view the first few rows (head()) or last few rows (tail()) of the DataFrame, which helps you get a quick overview of the data."
   ]
  },
  {
   "cell_type": "code",
   "execution_count": 25,
   "id": "b25566a7-51d6-46a5-9c7b-835b73374e4d",
   "metadata": {},
   "outputs": [],
   "source": [
    "df1 = pd.read_csv(\"player_data.csv\")"
   ]
  },
  {
   "cell_type": "code",
   "execution_count": 27,
   "id": "4b439b91-c421-4429-9125-48435292ccdb",
   "metadata": {},
   "outputs": [
    {
     "data": {
      "text/html": [
       "<div>\n",
       "<style scoped>\n",
       "    .dataframe tbody tr th:only-of-type {\n",
       "        vertical-align: middle;\n",
       "    }\n",
       "\n",
       "    .dataframe tbody tr th {\n",
       "        vertical-align: top;\n",
       "    }\n",
       "\n",
       "    .dataframe thead th {\n",
       "        text-align: right;\n",
       "    }\n",
       "</style>\n",
       "<table border=\"1\" class=\"dataframe\">\n",
       "  <thead>\n",
       "    <tr style=\"text-align: right;\">\n",
       "      <th></th>\n",
       "      <th>Rk</th>\n",
       "      <th>Player</th>\n",
       "      <th>Pos</th>\n",
       "      <th>Age</th>\n",
       "      <th>Tm</th>\n",
       "      <th>G</th>\n",
       "      <th>GS</th>\n",
       "      <th>MP</th>\n",
       "      <th>FG</th>\n",
       "      <th>FGA</th>\n",
       "      <th>...</th>\n",
       "      <th>FT%</th>\n",
       "      <th>ORB</th>\n",
       "      <th>DRB</th>\n",
       "      <th>TRB</th>\n",
       "      <th>AST</th>\n",
       "      <th>STL</th>\n",
       "      <th>BLK</th>\n",
       "      <th>TOV</th>\n",
       "      <th>PF</th>\n",
       "      <th>PTS</th>\n",
       "    </tr>\n",
       "  </thead>\n",
       "  <tbody>\n",
       "    <tr>\n",
       "      <th>0</th>\n",
       "      <td>1</td>\n",
       "      <td>Precious Achiuwa</td>\n",
       "      <td>C</td>\n",
       "      <td>22</td>\n",
       "      <td>TOR</td>\n",
       "      <td>73</td>\n",
       "      <td>28</td>\n",
       "      <td>23.6</td>\n",
       "      <td>3.6</td>\n",
       "      <td>8.3</td>\n",
       "      <td>...</td>\n",
       "      <td>.595</td>\n",
       "      <td>2.0</td>\n",
       "      <td>4.5</td>\n",
       "      <td>6.5</td>\n",
       "      <td>1.1</td>\n",
       "      <td>0.5</td>\n",
       "      <td>0.6</td>\n",
       "      <td>1.2</td>\n",
       "      <td>2.1</td>\n",
       "      <td>9.1</td>\n",
       "    </tr>\n",
       "    <tr>\n",
       "      <th>1</th>\n",
       "      <td>2</td>\n",
       "      <td>Steven Adams</td>\n",
       "      <td>C</td>\n",
       "      <td>28</td>\n",
       "      <td>MEM</td>\n",
       "      <td>76</td>\n",
       "      <td>75</td>\n",
       "      <td>26.3</td>\n",
       "      <td>2.8</td>\n",
       "      <td>5.1</td>\n",
       "      <td>...</td>\n",
       "      <td>.543</td>\n",
       "      <td>4.6</td>\n",
       "      <td>5.4</td>\n",
       "      <td>10.0</td>\n",
       "      <td>3.4</td>\n",
       "      <td>0.9</td>\n",
       "      <td>0.8</td>\n",
       "      <td>1.5</td>\n",
       "      <td>2.0</td>\n",
       "      <td>6.9</td>\n",
       "    </tr>\n",
       "    <tr>\n",
       "      <th>2</th>\n",
       "      <td>3</td>\n",
       "      <td>Bam Adebayo</td>\n",
       "      <td>C</td>\n",
       "      <td>24</td>\n",
       "      <td>MIA</td>\n",
       "      <td>56</td>\n",
       "      <td>56</td>\n",
       "      <td>32.6</td>\n",
       "      <td>7.3</td>\n",
       "      <td>13.0</td>\n",
       "      <td>...</td>\n",
       "      <td>.753</td>\n",
       "      <td>2.4</td>\n",
       "      <td>7.6</td>\n",
       "      <td>10.1</td>\n",
       "      <td>3.4</td>\n",
       "      <td>1.4</td>\n",
       "      <td>0.8</td>\n",
       "      <td>2.6</td>\n",
       "      <td>3.1</td>\n",
       "      <td>19.1</td>\n",
       "    </tr>\n",
       "    <tr>\n",
       "      <th>3</th>\n",
       "      <td>4</td>\n",
       "      <td>Santi Aldama</td>\n",
       "      <td>PF</td>\n",
       "      <td>21</td>\n",
       "      <td>MEM</td>\n",
       "      <td>32</td>\n",
       "      <td>0</td>\n",
       "      <td>11.3</td>\n",
       "      <td>1.7</td>\n",
       "      <td>4.1</td>\n",
       "      <td>...</td>\n",
       "      <td>.625</td>\n",
       "      <td>1.0</td>\n",
       "      <td>1.7</td>\n",
       "      <td>2.7</td>\n",
       "      <td>0.7</td>\n",
       "      <td>0.2</td>\n",
       "      <td>0.3</td>\n",
       "      <td>0.5</td>\n",
       "      <td>1.1</td>\n",
       "      <td>4.1</td>\n",
       "    </tr>\n",
       "    <tr>\n",
       "      <th>4</th>\n",
       "      <td>5</td>\n",
       "      <td>LaMarcus Aldridge</td>\n",
       "      <td>C</td>\n",
       "      <td>36</td>\n",
       "      <td>BRK</td>\n",
       "      <td>47</td>\n",
       "      <td>12</td>\n",
       "      <td>22.3</td>\n",
       "      <td>5.4</td>\n",
       "      <td>9.7</td>\n",
       "      <td>...</td>\n",
       "      <td>.873</td>\n",
       "      <td>1.6</td>\n",
       "      <td>3.9</td>\n",
       "      <td>5.5</td>\n",
       "      <td>0.9</td>\n",
       "      <td>0.3</td>\n",
       "      <td>1.0</td>\n",
       "      <td>0.9</td>\n",
       "      <td>1.7</td>\n",
       "      <td>12.9</td>\n",
       "    </tr>\n",
       "  </tbody>\n",
       "</table>\n",
       "<p>5 rows × 30 columns</p>\n",
       "</div>"
      ],
      "text/plain": [
       "  Rk             Player Pos Age   Tm   G  GS    MP   FG   FGA  ...   FT%  ORB  \\\n",
       "0  1   Precious Achiuwa   C  22  TOR  73  28  23.6  3.6   8.3  ...  .595  2.0   \n",
       "1  2       Steven Adams   C  28  MEM  76  75  26.3  2.8   5.1  ...  .543  4.6   \n",
       "2  3        Bam Adebayo   C  24  MIA  56  56  32.6  7.3  13.0  ...  .753  2.4   \n",
       "3  4       Santi Aldama  PF  21  MEM  32   0  11.3  1.7   4.1  ...  .625  1.0   \n",
       "4  5  LaMarcus Aldridge   C  36  BRK  47  12  22.3  5.4   9.7  ...  .873  1.6   \n",
       "\n",
       "   DRB   TRB  AST  STL  BLK  TOV   PF   PTS  \n",
       "0  4.5   6.5  1.1  0.5  0.6  1.2  2.1   9.1  \n",
       "1  5.4  10.0  3.4  0.9  0.8  1.5  2.0   6.9  \n",
       "2  7.6  10.1  3.4  1.4  0.8  2.6  3.1  19.1  \n",
       "3  1.7   2.7  0.7  0.2  0.3  0.5  1.1   4.1  \n",
       "4  3.9   5.5  0.9  0.3  1.0  0.9  1.7  12.9  \n",
       "\n",
       "[5 rows x 30 columns]"
      ]
     },
     "execution_count": 27,
     "metadata": {},
     "output_type": "execute_result"
    }
   ],
   "source": [
    "df1.head()"
   ]
  },
  {
   "cell_type": "code",
   "execution_count": null,
   "id": "8be9718f-3cd8-4d84-9bc4-e6bb3e902308",
   "metadata": {},
   "outputs": [],
   "source": []
  },
  {
   "cell_type": "code",
   "execution_count": 28,
   "id": "699df1e7-b383-46f3-9290-74f141c5ef0d",
   "metadata": {},
   "outputs": [
    {
     "data": {
      "text/html": [
       "<div>\n",
       "<style scoped>\n",
       "    .dataframe tbody tr th:only-of-type {\n",
       "        vertical-align: middle;\n",
       "    }\n",
       "\n",
       "    .dataframe tbody tr th {\n",
       "        vertical-align: top;\n",
       "    }\n",
       "\n",
       "    .dataframe thead th {\n",
       "        text-align: right;\n",
       "    }\n",
       "</style>\n",
       "<table border=\"1\" class=\"dataframe\">\n",
       "  <thead>\n",
       "    <tr style=\"text-align: right;\">\n",
       "      <th></th>\n",
       "      <th>Rk</th>\n",
       "      <th>Player</th>\n",
       "      <th>Pos</th>\n",
       "      <th>Age</th>\n",
       "      <th>Tm</th>\n",
       "      <th>G</th>\n",
       "      <th>GS</th>\n",
       "      <th>MP</th>\n",
       "      <th>FG</th>\n",
       "      <th>FGA</th>\n",
       "      <th>...</th>\n",
       "      <th>FT%</th>\n",
       "      <th>ORB</th>\n",
       "      <th>DRB</th>\n",
       "      <th>TRB</th>\n",
       "      <th>AST</th>\n",
       "      <th>STL</th>\n",
       "      <th>BLK</th>\n",
       "      <th>TOV</th>\n",
       "      <th>PF</th>\n",
       "      <th>PTS</th>\n",
       "    </tr>\n",
       "  </thead>\n",
       "  <tbody>\n",
       "    <tr>\n",
       "      <th>837</th>\n",
       "      <td>601</td>\n",
       "      <td>Thaddeus Young</td>\n",
       "      <td>PF</td>\n",
       "      <td>33</td>\n",
       "      <td>TOR</td>\n",
       "      <td>26</td>\n",
       "      <td>0</td>\n",
       "      <td>18.3</td>\n",
       "      <td>2.6</td>\n",
       "      <td>5.5</td>\n",
       "      <td>...</td>\n",
       "      <td>.481</td>\n",
       "      <td>1.5</td>\n",
       "      <td>2.9</td>\n",
       "      <td>4.4</td>\n",
       "      <td>1.7</td>\n",
       "      <td>1.2</td>\n",
       "      <td>0.4</td>\n",
       "      <td>0.8</td>\n",
       "      <td>1.7</td>\n",
       "      <td>6.3</td>\n",
       "    </tr>\n",
       "    <tr>\n",
       "      <th>838</th>\n",
       "      <td>602</td>\n",
       "      <td>Trae Young</td>\n",
       "      <td>PG</td>\n",
       "      <td>23</td>\n",
       "      <td>ATL</td>\n",
       "      <td>76</td>\n",
       "      <td>76</td>\n",
       "      <td>34.9</td>\n",
       "      <td>9.4</td>\n",
       "      <td>20.3</td>\n",
       "      <td>...</td>\n",
       "      <td>.904</td>\n",
       "      <td>0.7</td>\n",
       "      <td>3.1</td>\n",
       "      <td>3.7</td>\n",
       "      <td>9.7</td>\n",
       "      <td>0.9</td>\n",
       "      <td>0.1</td>\n",
       "      <td>4.0</td>\n",
       "      <td>1.7</td>\n",
       "      <td>28.4</td>\n",
       "    </tr>\n",
       "    <tr>\n",
       "      <th>839</th>\n",
       "      <td>603</td>\n",
       "      <td>Omer Yurtseven</td>\n",
       "      <td>C</td>\n",
       "      <td>23</td>\n",
       "      <td>MIA</td>\n",
       "      <td>56</td>\n",
       "      <td>12</td>\n",
       "      <td>12.6</td>\n",
       "      <td>2.3</td>\n",
       "      <td>4.4</td>\n",
       "      <td>...</td>\n",
       "      <td>.623</td>\n",
       "      <td>1.5</td>\n",
       "      <td>3.7</td>\n",
       "      <td>5.3</td>\n",
       "      <td>0.9</td>\n",
       "      <td>0.3</td>\n",
       "      <td>0.4</td>\n",
       "      <td>0.7</td>\n",
       "      <td>1.5</td>\n",
       "      <td>5.3</td>\n",
       "    </tr>\n",
       "    <tr>\n",
       "      <th>840</th>\n",
       "      <td>604</td>\n",
       "      <td>Cody Zeller</td>\n",
       "      <td>C</td>\n",
       "      <td>29</td>\n",
       "      <td>POR</td>\n",
       "      <td>27</td>\n",
       "      <td>0</td>\n",
       "      <td>13.1</td>\n",
       "      <td>1.9</td>\n",
       "      <td>3.3</td>\n",
       "      <td>...</td>\n",
       "      <td>.776</td>\n",
       "      <td>1.9</td>\n",
       "      <td>2.8</td>\n",
       "      <td>4.6</td>\n",
       "      <td>0.8</td>\n",
       "      <td>0.3</td>\n",
       "      <td>0.2</td>\n",
       "      <td>0.7</td>\n",
       "      <td>2.1</td>\n",
       "      <td>5.2</td>\n",
       "    </tr>\n",
       "    <tr>\n",
       "      <th>841</th>\n",
       "      <td>605</td>\n",
       "      <td>Ivica Zubac</td>\n",
       "      <td>C</td>\n",
       "      <td>24</td>\n",
       "      <td>LAC</td>\n",
       "      <td>76</td>\n",
       "      <td>76</td>\n",
       "      <td>24.4</td>\n",
       "      <td>4.1</td>\n",
       "      <td>6.5</td>\n",
       "      <td>...</td>\n",
       "      <td>.727</td>\n",
       "      <td>2.9</td>\n",
       "      <td>5.6</td>\n",
       "      <td>8.5</td>\n",
       "      <td>1.6</td>\n",
       "      <td>0.5</td>\n",
       "      <td>1.0</td>\n",
       "      <td>1.5</td>\n",
       "      <td>2.7</td>\n",
       "      <td>10.3</td>\n",
       "    </tr>\n",
       "  </tbody>\n",
       "</table>\n",
       "<p>5 rows × 30 columns</p>\n",
       "</div>"
      ],
      "text/plain": [
       "      Rk          Player Pos Age   Tm   G  GS    MP   FG   FGA  ...   FT%  \\\n",
       "837  601  Thaddeus Young  PF  33  TOR  26   0  18.3  2.6   5.5  ...  .481   \n",
       "838  602      Trae Young  PG  23  ATL  76  76  34.9  9.4  20.3  ...  .904   \n",
       "839  603  Omer Yurtseven   C  23  MIA  56  12  12.6  2.3   4.4  ...  .623   \n",
       "840  604     Cody Zeller   C  29  POR  27   0  13.1  1.9   3.3  ...  .776   \n",
       "841  605     Ivica Zubac   C  24  LAC  76  76  24.4  4.1   6.5  ...  .727   \n",
       "\n",
       "     ORB  DRB  TRB  AST  STL  BLK  TOV   PF   PTS  \n",
       "837  1.5  2.9  4.4  1.7  1.2  0.4  0.8  1.7   6.3  \n",
       "838  0.7  3.1  3.7  9.7  0.9  0.1  4.0  1.7  28.4  \n",
       "839  1.5  3.7  5.3  0.9  0.3  0.4  0.7  1.5   5.3  \n",
       "840  1.9  2.8  4.6  0.8  0.3  0.2  0.7  2.1   5.2  \n",
       "841  2.9  5.6  8.5  1.6  0.5  1.0  1.5  2.7  10.3  \n",
       "\n",
       "[5 rows x 30 columns]"
      ]
     },
     "execution_count": 28,
     "metadata": {},
     "output_type": "execute_result"
    }
   ],
   "source": [
    "df1.tail()"
   ]
  },
  {
   "cell_type": "code",
   "execution_count": null,
   "id": "6cc6d761-cfa8-4e92-a6b4-3a0c2b9bd99a",
   "metadata": {},
   "outputs": [],
   "source": []
  },
  {
   "cell_type": "markdown",
   "id": "fe574934-b075-46d5-a6f4-e7617af074b2",
   "metadata": {},
   "source": [
    "2.-- \n",
    "info(): This function provides a concise summary of the DataFrame, including the data types, non-null counts, and memory usage. It's useful for understanding the data structure and identifying missing values."
   ]
  },
  {
   "cell_type": "code",
   "execution_count": 29,
   "id": "2f12bbd1-57e7-4444-844d-dc8ac11e132a",
   "metadata": {},
   "outputs": [
    {
     "name": "stdout",
     "output_type": "stream",
     "text": [
      "<class 'pandas.core.frame.DataFrame'>\n",
      "RangeIndex: 842 entries, 0 to 841\n",
      "Data columns (total 30 columns):\n",
      " #   Column  Non-Null Count  Dtype \n",
      "---  ------  --------------  ----- \n",
      " 0   Rk      842 non-null    object\n",
      " 1   Player  842 non-null    object\n",
      " 2   Pos     842 non-null    object\n",
      " 3   Age     842 non-null    object\n",
      " 4   Tm      842 non-null    object\n",
      " 5   G       842 non-null    object\n",
      " 6   GS      842 non-null    object\n",
      " 7   MP      842 non-null    object\n",
      " 8   FG      842 non-null    object\n",
      " 9   FGA     842 non-null    object\n",
      " 10  FG%     827 non-null    object\n",
      " 11  3P      842 non-null    object\n",
      " 12  3PA     842 non-null    object\n",
      " 13  3P%     770 non-null    object\n",
      " 14  2P      842 non-null    object\n",
      " 15  2PA     842 non-null    object\n",
      " 16  2P%     814 non-null    object\n",
      " 17  eFG%    827 non-null    object\n",
      " 18  FT      842 non-null    object\n",
      " 19  FTA     842 non-null    object\n",
      " 20  FT%     745 non-null    object\n",
      " 21  ORB     842 non-null    object\n",
      " 22  DRB     842 non-null    object\n",
      " 23  TRB     842 non-null    object\n",
      " 24  AST     842 non-null    object\n",
      " 25  STL     842 non-null    object\n",
      " 26  BLK     842 non-null    object\n",
      " 27  TOV     842 non-null    object\n",
      " 28  PF      842 non-null    object\n",
      " 29  PTS     842 non-null    object\n",
      "dtypes: object(30)\n",
      "memory usage: 197.5+ KB\n"
     ]
    }
   ],
   "source": [
    "df1.info()"
   ]
  },
  {
   "cell_type": "markdown",
   "id": "f3be268c-7e02-4889-b87d-3002662aeff3",
   "metadata": {},
   "source": [
    "3.-- describe(): This function generates descriptive statistics of the DataFrame, such as count, mean, standard deviation, minimum, and maximum values. It helps in understanding the distribution of numerical data."
   ]
  },
  {
   "cell_type": "code",
   "execution_count": 33,
   "id": "7bb00f49-a048-420d-a4d0-cd0f742e6af4",
   "metadata": {},
   "outputs": [
    {
     "data": {
      "text/html": [
       "<div>\n",
       "<style scoped>\n",
       "    .dataframe tbody tr th:only-of-type {\n",
       "        vertical-align: middle;\n",
       "    }\n",
       "\n",
       "    .dataframe tbody tr th {\n",
       "        vertical-align: top;\n",
       "    }\n",
       "\n",
       "    .dataframe thead th {\n",
       "        text-align: right;\n",
       "    }\n",
       "</style>\n",
       "<table border=\"1\" class=\"dataframe\">\n",
       "  <thead>\n",
       "    <tr style=\"text-align: right;\">\n",
       "      <th></th>\n",
       "      <th>Rk</th>\n",
       "      <th>Player</th>\n",
       "      <th>Pos</th>\n",
       "      <th>Age</th>\n",
       "      <th>Tm</th>\n",
       "      <th>G</th>\n",
       "      <th>GS</th>\n",
       "      <th>MP</th>\n",
       "      <th>FG</th>\n",
       "      <th>FGA</th>\n",
       "      <th>...</th>\n",
       "      <th>FT%</th>\n",
       "      <th>ORB</th>\n",
       "      <th>DRB</th>\n",
       "      <th>TRB</th>\n",
       "      <th>AST</th>\n",
       "      <th>STL</th>\n",
       "      <th>BLK</th>\n",
       "      <th>TOV</th>\n",
       "      <th>PF</th>\n",
       "      <th>PTS</th>\n",
       "    </tr>\n",
       "  </thead>\n",
       "  <tbody>\n",
       "    <tr>\n",
       "      <th>count</th>\n",
       "      <td>842</td>\n",
       "      <td>842</td>\n",
       "      <td>842</td>\n",
       "      <td>842</td>\n",
       "      <td>842</td>\n",
       "      <td>842</td>\n",
       "      <td>842</td>\n",
       "      <td>842</td>\n",
       "      <td>842</td>\n",
       "      <td>842</td>\n",
       "      <td>...</td>\n",
       "      <td>745</td>\n",
       "      <td>842</td>\n",
       "      <td>842</td>\n",
       "      <td>842</td>\n",
       "      <td>842</td>\n",
       "      <td>842</td>\n",
       "      <td>842</td>\n",
       "      <td>842</td>\n",
       "      <td>842</td>\n",
       "      <td>842</td>\n",
       "    </tr>\n",
       "    <tr>\n",
       "      <th>unique</th>\n",
       "      <td>606</td>\n",
       "      <td>606</td>\n",
       "      <td>13</td>\n",
       "      <td>23</td>\n",
       "      <td>32</td>\n",
       "      <td>83</td>\n",
       "      <td>81</td>\n",
       "      <td>308</td>\n",
       "      <td>98</td>\n",
       "      <td>179</td>\n",
       "      <td>...</td>\n",
       "      <td>282</td>\n",
       "      <td>42</td>\n",
       "      <td>86</td>\n",
       "      <td>110</td>\n",
       "      <td>83</td>\n",
       "      <td>25</td>\n",
       "      <td>24</td>\n",
       "      <td>45</td>\n",
       "      <td>41</td>\n",
       "      <td>214</td>\n",
       "    </tr>\n",
       "    <tr>\n",
       "      <th>top</th>\n",
       "      <td>Rk</td>\n",
       "      <td>Player</td>\n",
       "      <td>SG</td>\n",
       "      <td>24</td>\n",
       "      <td>TOT</td>\n",
       "      <td>2</td>\n",
       "      <td>0</td>\n",
       "      <td>MP</td>\n",
       "      <td>0.0</td>\n",
       "      <td>FGA</td>\n",
       "      <td>...</td>\n",
       "      <td>1.000</td>\n",
       "      <td>0.4</td>\n",
       "      <td>1.0</td>\n",
       "      <td>0.0</td>\n",
       "      <td>0.0</td>\n",
       "      <td>0.5</td>\n",
       "      <td>0.0</td>\n",
       "      <td>0.0</td>\n",
       "      <td>1.0</td>\n",
       "      <td>0.0</td>\n",
       "    </tr>\n",
       "    <tr>\n",
       "      <th>freq</th>\n",
       "      <td>30</td>\n",
       "      <td>30</td>\n",
       "      <td>200</td>\n",
       "      <td>103</td>\n",
       "      <td>97</td>\n",
       "      <td>39</td>\n",
       "      <td>265</td>\n",
       "      <td>30</td>\n",
       "      <td>42</td>\n",
       "      <td>30</td>\n",
       "      <td>...</td>\n",
       "      <td>50</td>\n",
       "      <td>79</td>\n",
       "      <td>41</td>\n",
       "      <td>31</td>\n",
       "      <td>63</td>\n",
       "      <td>104</td>\n",
       "      <td>154</td>\n",
       "      <td>73</td>\n",
       "      <td>47</td>\n",
       "      <td>35</td>\n",
       "    </tr>\n",
       "  </tbody>\n",
       "</table>\n",
       "<p>4 rows × 30 columns</p>\n",
       "</div>"
      ],
      "text/plain": [
       "         Rk  Player  Pos  Age   Tm    G   GS   MP   FG  FGA  ...    FT%  ORB  \\\n",
       "count   842     842  842  842  842  842  842  842  842  842  ...    745  842   \n",
       "unique  606     606   13   23   32   83   81  308   98  179  ...    282   42   \n",
       "top      Rk  Player   SG   24  TOT    2    0   MP  0.0  FGA  ...  1.000  0.4   \n",
       "freq     30      30  200  103   97   39  265   30   42   30  ...     50   79   \n",
       "\n",
       "        DRB  TRB  AST  STL  BLK  TOV   PF  PTS  \n",
       "count   842  842  842  842  842  842  842  842  \n",
       "unique   86  110   83   25   24   45   41  214  \n",
       "top     1.0  0.0  0.0  0.5  0.0  0.0  1.0  0.0  \n",
       "freq     41   31   63  104  154   73   47   35  \n",
       "\n",
       "[4 rows x 30 columns]"
      ]
     },
     "execution_count": 33,
     "metadata": {},
     "output_type": "execute_result"
    }
   ],
   "source": [
    " df1.describe()"
   ]
  },
  {
   "cell_type": "code",
   "execution_count": null,
   "id": "fb987e1d-f11e-400f-94d3-5ddf305840ff",
   "metadata": {},
   "outputs": [],
   "source": []
  },
  {
   "cell_type": "code",
   "execution_count": null,
   "id": "69c56ff1-06a9-437c-b5e8-36b06766960e",
   "metadata": {},
   "outputs": [],
   "source": []
  },
  {
   "cell_type": "markdown",
   "id": "e8d4f6d7-86a0-4a97-b1cc-172a0e55e7ca",
   "metadata": {},
   "source": [
    "Question - 6\n",
    "ans - "
   ]
  },
  {
   "cell_type": "markdown",
   "id": "aca958ea-35d0-4fab-82a4-d0bd972650ea",
   "metadata": {},
   "source": [
    "1.- Series: A Pandas Series is immutable, which means you cannot modify the elements once it is created. You can, however, create a new Series with modified values.\n",
    "\n",
    "2.- DataFrame: A Pandas DataFrame is mutable, meaning you can modify its elements, add or remove columns, change values, and perform various data manipulation operations.\n",
    "\n",
    "3.- Panel: The Panel data structure was removed from the main Pandas library since version 0.25.0 (July 2019) because it was deemed not essential and not widely used. Instead, users were recommended to use multi-index DataFrames or 3D NumPy arrays. Therefore, Panels are no longer a part of the Pandas library."
   ]
  },
  {
   "cell_type": "code",
   "execution_count": null,
   "id": "4fb8593b-6f41-4484-845b-718cccfaae78",
   "metadata": {},
   "outputs": [],
   "source": []
  },
  {
   "cell_type": "code",
   "execution_count": null,
   "id": "bf9560d8-4922-40b9-bdff-7a321049d08b",
   "metadata": {},
   "outputs": [],
   "source": []
  },
  {
   "cell_type": "markdown",
   "id": "7694a310-89b0-4c5d-8318-d107b6c51048",
   "metadata": {},
   "source": [
    "Question - 7\n",
    "ans - "
   ]
  },
  {
   "cell_type": "code",
   "execution_count": 37,
   "id": "47ac3218-7258-499c-964b-7a2c83afda3b",
   "metadata": {},
   "outputs": [],
   "source": [
    "student_marks = {\"Ravi\":99,\n",
    "                 \"sanjeet\":97,\n",
    "                 \"himanshu\":98,\n",
    "                 \"jogesh\":96,\n",
    "                 \"abhishek\":100,\n",
    "                 \"manu\":100,\n",
    "                 \"kishan\":93\n",
    "}\n",
    "\n",
    "marks_series = pd.Series(student_marks , name = \"Marks_Obtained\")"
   ]
  },
  {
   "cell_type": "code",
   "execution_count": 38,
   "id": "64d66a70-a916-4467-ba48-0c690b517334",
   "metadata": {},
   "outputs": [],
   "source": [
    "student_subject = {\"Ravi\":\"thermodynamics\",\n",
    "                   \"sanjeet\":\"strength of material\",\n",
    "                   \"himanshu\":\"economics\",\n",
    "                   \"jogesh\":\"fluid mechainics\",\n",
    "                   \"abhishek\":\"heat transfer\",\n",
    "                   \"manu\":\"DME\"\n",
    "}\n",
    "\n",
    "subject_series = pd.Series(student_subject, name = 'Subjects')\n",
    "\n",
    "df2 = pd.DataFrame({\"Marks_Obtained\":student_marks, \"Subjects\":student_subject})"
   ]
  },
  {
   "cell_type": "code",
   "execution_count": 39,
   "id": "49765357-04ab-41f5-8d9a-90e85bcb1fe0",
   "metadata": {},
   "outputs": [
    {
     "data": {
      "text/html": [
       "<div>\n",
       "<style scoped>\n",
       "    .dataframe tbody tr th:only-of-type {\n",
       "        vertical-align: middle;\n",
       "    }\n",
       "\n",
       "    .dataframe tbody tr th {\n",
       "        vertical-align: top;\n",
       "    }\n",
       "\n",
       "    .dataframe thead th {\n",
       "        text-align: right;\n",
       "    }\n",
       "</style>\n",
       "<table border=\"1\" class=\"dataframe\">\n",
       "  <thead>\n",
       "    <tr style=\"text-align: right;\">\n",
       "      <th></th>\n",
       "      <th>Marks_Obtained</th>\n",
       "      <th>Subjects</th>\n",
       "    </tr>\n",
       "  </thead>\n",
       "  <tbody>\n",
       "    <tr>\n",
       "      <th>Ravi</th>\n",
       "      <td>99</td>\n",
       "      <td>thermodynamics</td>\n",
       "    </tr>\n",
       "    <tr>\n",
       "      <th>sanjeet</th>\n",
       "      <td>97</td>\n",
       "      <td>strength of material</td>\n",
       "    </tr>\n",
       "    <tr>\n",
       "      <th>himanshu</th>\n",
       "      <td>98</td>\n",
       "      <td>economics</td>\n",
       "    </tr>\n",
       "    <tr>\n",
       "      <th>jogesh</th>\n",
       "      <td>96</td>\n",
       "      <td>fluid mechainics</td>\n",
       "    </tr>\n",
       "    <tr>\n",
       "      <th>abhishek</th>\n",
       "      <td>100</td>\n",
       "      <td>heat transfer</td>\n",
       "    </tr>\n",
       "    <tr>\n",
       "      <th>manu</th>\n",
       "      <td>100</td>\n",
       "      <td>DME</td>\n",
       "    </tr>\n",
       "    <tr>\n",
       "      <th>kishan</th>\n",
       "      <td>93</td>\n",
       "      <td>NaN</td>\n",
       "    </tr>\n",
       "  </tbody>\n",
       "</table>\n",
       "</div>"
      ],
      "text/plain": [
       "          Marks_Obtained              Subjects\n",
       "Ravi                  99        thermodynamics\n",
       "sanjeet               97  strength of material\n",
       "himanshu              98             economics\n",
       "jogesh                96      fluid mechainics\n",
       "abhishek             100         heat transfer\n",
       "manu                 100                   DME\n",
       "kishan                93                   NaN"
      ]
     },
     "execution_count": 39,
     "metadata": {},
     "output_type": "execute_result"
    }
   ],
   "source": [
    "df2"
   ]
  },
  {
   "cell_type": "code",
   "execution_count": null,
   "id": "ee4dcc6f-d823-4b16-beb6-c7de091de227",
   "metadata": {},
   "outputs": [],
   "source": []
  }
 ],
 "metadata": {
  "kernelspec": {
   "display_name": "Python 3 (ipykernel)",
   "language": "python",
   "name": "python3"
  },
  "language_info": {
   "codemirror_mode": {
    "name": "ipython",
    "version": 3
   },
   "file_extension": ".py",
   "mimetype": "text/x-python",
   "name": "python",
   "nbconvert_exporter": "python",
   "pygments_lexer": "ipython3",
   "version": "3.10.8"
  }
 },
 "nbformat": 4,
 "nbformat_minor": 5
}
